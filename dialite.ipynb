{
 "cells": [
  {
   "attachments": {},
   "cell_type": "markdown",
   "metadata": {},
   "source": [
    "# DIALITE: Discover, Align and Integrate open Data Tables"
   ]
  },
  {
   "attachments": {},
   "cell_type": "markdown",
   "metadata": {},
   "source": [
    "Import the necessary libraries"
   ]
  },
  {
   "cell_type": "code",
   "execution_count": 5,
   "metadata": {},
   "outputs": [],
   "source": [
    "import pandas as pd\n",
    "import dialite_server as dialite\n",
    "import requests\n",
    "import json\n",
    "import time\n",
    "import glob"
   ]
  },
  {
   "attachments": {},
   "cell_type": "markdown",
   "metadata": {},
   "source": [
    "## Step 1: Discover\n",
    "The first step of DIALITE is to search for the related tables from open data repository. DIALITE offers state-of-the-art table search techniques to find the joinable, unionable or related tables from the open data repositories."
   ]
  },
  {
   "cell_type": "code",
   "execution_count": 2,
   "metadata": {},
   "outputs": [
    {
     "name": "stdout",
     "output_type": "stream",
     "text": [
      "Select Query table\n",
      "Query table name: stadiums_0.csv\n"
     ]
    },
    {
     "data": {
      "text/html": [
       "<div>\n",
       "<style scoped>\n",
       "    .dataframe tbody tr th:only-of-type {\n",
       "        vertical-align: middle;\n",
       "    }\n",
       "\n",
       "    .dataframe tbody tr th {\n",
       "        vertical-align: top;\n",
       "    }\n",
       "\n",
       "    .dataframe thead th {\n",
       "        text-align: right;\n",
       "    }\n",
       "</style>\n",
       "<table border=\"1\" class=\"dataframe\">\n",
       "  <thead>\n",
       "    <tr style=\"text-align: right;\">\n",
       "      <th></th>\n",
       "      <th>Player</th>\n",
       "      <th>Position</th>\n",
       "      <th>Team</th>\n",
       "    </tr>\n",
       "  </thead>\n",
       "  <tbody>\n",
       "    <tr>\n",
       "      <th>0</th>\n",
       "      <td>Kyler Murray</td>\n",
       "      <td>QB</td>\n",
       "      <td>Cardinals</td>\n",
       "    </tr>\n",
       "    <tr>\n",
       "      <th>1</th>\n",
       "      <td>Tom Brad</td>\n",
       "      <td>QB</td>\n",
       "      <td>Buccaneer</td>\n",
       "    </tr>\n",
       "    <tr>\n",
       "      <th>2</th>\n",
       "      <td>Joel Bitonio</td>\n",
       "      <td>G</td>\n",
       "      <td>Browns</td>\n",
       "    </tr>\n",
       "    <tr>\n",
       "      <th>3</th>\n",
       "      <td>CeeDee Lamb</td>\n",
       "      <td>WR</td>\n",
       "      <td>Cowboys</td>\n",
       "    </tr>\n",
       "    <tr>\n",
       "      <th>4</th>\n",
       "      <td>Jason Kelce</td>\n",
       "      <td>C</td>\n",
       "      <td>Eagles</td>\n",
       "    </tr>\n",
       "  </tbody>\n",
       "</table>\n",
       "</div>"
      ],
      "text/plain": [
       "         Player Position       Team\n",
       "0  Kyler Murray       QB  Cardinals\n",
       "1      Tom Brad       QB  Buccaneer\n",
       "2  Joel Bitonio        G     Browns\n",
       "3   CeeDee Lamb       WR    Cowboys\n",
       "4   Jason Kelce        C     Eagles"
      ]
     },
     "execution_count": 2,
     "metadata": {},
     "output_type": "execute_result"
    }
   ],
   "source": [
    "# Upload the query table\n",
    "#todo: use tkinter to upload file using GUI\n",
    "print(\"Select Query table\")\n",
    "filelocation = \"data/query/stadiums_0.csv\"\n",
    "file_name=filelocation.split(\"/\")[-1]\n",
    "print(\"Query table name:\", file_name)\n",
    "query_table = pd.read_csv(filelocation, encoding=\"latin-1\", on_bad_lines=\"skip\")\n",
    "query_table.head(5)"
   ]
  },
  {
   "attachments": {},
   "cell_type": "markdown",
   "metadata": {},
   "source": [
    "The next step is to select the technique for table discovery. In this demo, we will use JOSIE for joinable table search and SANTOS for unionable table search. However, the user can easily add new table discovery systems to DIALITE."
   ]
  },
  {
   "cell_type": "code",
   "execution_count": 3,
   "metadata": {},
   "outputs": [
    {
     "name": "stdout",
     "output_type": "stream",
     "text": [
      "Select table discovery algorithm.\n",
      "Enter 1 for SANTOS (unionable table search), 2 for JOSIE (joinable table search) and 3 for both available algorithms.\n",
      "Selected algorithm:\n",
      "['SANTOS', 'JOSIE']\n"
     ]
    }
   ],
   "source": [
    "print(\"Select table discovery algorithm.\")\n",
    "print(\"Enter 1 for SANTOS (unionable table search), 2 for JOSIE (joinable table search) and 3 for both available algorithms.\")\n",
    "available_algorithms = ['SANTOS', 'JOSIE']\n",
    "selected_algorithms = set() #to be completed\n",
    "algorithm = int(input())\n",
    "print(\"Selected algorithm:\")\n",
    "if algorithm > len(available_algorithms):\n",
    "    print(available_algorithms)\n",
    "    for each_algorithm in available_algorithms:\n",
    "        selected_algorithms.add(each_algorithm)\n",
    "else:\n",
    "    print(available_algorithms[algorithm-1])\n",
    "    selected_algorithms.add(available_algorithms[algorithm-1])"
   ]
  },
  {
   "attachments": {},
   "cell_type": "markdown",
   "metadata": {},
   "source": [
    "For both algorithms, the user needs to provide the value of k to search for top-k tables. In this demo, we will use k = 1 for SANTOS and k = 2 for JOSIE. \n",
    "Also, SANTOS needs user to specify the intent column and JOSIE needs user to specify a query column. We use Player as intent column and Stadium as query column.\n",
    "The search results are stored in /dialite/data/integration-set. Note that the query table is also included in the integration set."
   ]
  },
  {
   "cell_type": "code",
   "execution_count": 4,
   "metadata": {},
   "outputs": [
    {
     "name": "stdout",
     "output_type": "stream",
     "text": [
      "Enter the value of k for SANTOS:\n",
      "Enter index of intent column:\n",
      "SANTOS top-1 added to the integration set.\n",
      "Enter the value of k for JOSIE:\n",
      "Enter index of query column:\n",
      "JOSIE top-1 added to the integration set.\n"
     ]
    }
   ],
   "source": [
    "#Apply Table discovery algorithms.\n",
    "search_results = set()\n",
    "if \"SANTOS\" in selected_algorithms:\n",
    "    print(\"Enter the value of k for SANTOS:\")\n",
    "    k = int(input())\n",
    "    print(\"Enter index of intent column:\")\n",
    "    intent_column = int(input())\n",
    "    dialite.QuerySANTOS(query_table, intent_column, k)\n",
    "\n",
    "if \"JOSIE\" in selected_algorithms:\n",
    "    print(\"Enter the value of k for JOSIE:\")\n",
    "    k = int(input())\n",
    "    print(\"Enter index of query column:\")\n",
    "    query_column = int(input())\n",
    "    dialite.QueryJOSIE(query_table, query_column, k)"
   ]
  },
  {
   "cell_type": "code",
   "execution_count": 10,
   "metadata": {},
   "outputs": [
    {
     "name": "stdout",
     "output_type": "stream",
     "text": [
      "The integration set contains the following tables:\n",
      "data/integration-set/stadiums_0.csv\n",
      "data/integration-set/stadiums_1.csv\n",
      "data/integration-set/stadiums_2.csv\n",
      "data/integration-set/stadiums_3.csv\n"
     ]
    }
   ],
   "source": [
    "print(\"The integration set contains the following tables:\")\n",
    "integration_set = glob.glob(\"data/integration-set/*\")\n",
    "for each_table in integration_set:\n",
    "    print(each_table)"
   ]
  },
  {
   "attachments": {},
   "cell_type": "markdown",
   "metadata": {},
   "source": [
    "## Step 2: Align and Integrate\n",
    "In this step, DIALITE uses ALITE, a new table integration algorithm to integrate the discovered tables. The input for this step is the set of tables to be integrated (integration set) stored in /dialite/data/integration-set and the output is integration result stored in /dialite/data/integration-result/alite_fd_*.csv where, * is replaced by the name of integration set derived from the query table name."
   ]
  },
  {
   "cell_type": "code",
   "execution_count": 14,
   "metadata": {},
   "outputs": [
    {
     "name": "stdout",
     "output_type": "stream",
     "text": [
      "Alignment task completed.\n",
      "Integrated table using ALITE.\n",
      "Integrated table using Outer join.\n"
     ]
    }
   ],
   "source": [
    "dialite.FindIntegrationIDs()\n",
    "dialite.ApplyALITEIntegration()\n",
    "\n",
    "#For comparison, we also integrate the tables using outer join.\n",
    "dialite.ApplyOuterJoinIntegration()"
   ]
  }
 ],
 "metadata": {
  "kernelspec": {
   "display_name": "env",
   "language": "python",
   "name": "python3"
  },
  "language_info": {
   "codemirror_mode": {
    "name": "ipython",
    "version": 3
   },
   "file_extension": ".py",
   "mimetype": "text/x-python",
   "name": "python",
   "nbconvert_exporter": "python",
   "pygments_lexer": "ipython3",
   "version": "3.9.6"
  },
  "orig_nbformat": 4,
  "vscode": {
   "interpreter": {
    "hash": "c487f1230643a2da83423b5d926ed50a8c0f9ed3ae22bb7914a5b31589e5f44b"
   }
  }
 },
 "nbformat": 4,
 "nbformat_minor": 2
}
