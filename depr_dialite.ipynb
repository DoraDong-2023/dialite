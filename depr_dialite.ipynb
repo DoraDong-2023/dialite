{
 "cells": [
  {
   "attachments": {},
   "cell_type": "markdown",
   "metadata": {},
   "source": [
    "# DIALITE: Discover, Align and Integrate open Data Tables"
   ]
  },
  {
   "attachments": {},
   "cell_type": "markdown",
   "metadata": {},
   "source": [
    "Import the necessary libraries"
   ]
  },
  {
   "cell_type": "code",
   "execution_count": 1,
   "metadata": {},
   "outputs": [],
   "source": [
    "import pandas as pd\n",
    "import dialite_server as dialite\n",
    "#import requests\n",
    "import json\n",
    "import time\n",
    "import glob"
   ]
  },
  {
   "attachments": {},
   "cell_type": "markdown",
   "metadata": {},
   "source": [
    "## Step 1: Discover\n",
    "The first step of DIALITE is to search for the related tables from open data repository. DIALITE offers state-of-the-art table search techniques to find the joinable, unionable or related tables from the open data repositories."
   ]
  },
  {
   "cell_type": "code",
   "execution_count": null,
   "metadata": {},
   "outputs": [],
   "source": [
    "# Upload the query table\n",
    "#todo: use tkinter to upload file using GUI\n",
    "print(\"Select Query table\")\n",
    "filelocation = \"data/query/stadiums_0.csv\"\n",
    "file_name=filelocation.split(\"/\")[-1]\n",
    "print(\"Query table name:\", file_name)\n",
    "query_table = pd.read_csv(filelocation, encoding=\"latin-1\", on_bad_lines=\"skip\")\n",
    "query_table.head(5)"
   ]
  },
  {
   "attachments": {},
   "cell_type": "markdown",
   "metadata": {},
   "source": [
    "The next step is to select the technique for table discovery. In this demo, we will use JOSIE for joinable table search and SANTOS for unionable table search. However, the user can easily add new table discovery systems to DIALITE."
   ]
  },
  {
   "cell_type": "code",
   "execution_count": null,
   "metadata": {},
   "outputs": [],
   "source": [
    "print(\"Select table discovery algorithm.\")\n",
    "print(\"Enter 1 for SANTOS (unionable table search), 2 for JOSIE (joinable table search) and 3 for both available algorithms.\")\n",
    "available_algorithms = ['SANTOS', 'JOSIE']\n",
    "selected_algorithms = set() #to be completed\n",
    "algorithm = int(input())\n",
    "print(\"Selected algorithm:\")\n",
    "if algorithm > len(available_algorithms):\n",
    "    print(available_algorithms)\n",
    "    for each_algorithm in available_algorithms:\n",
    "        selected_algorithms.add(each_algorithm)\n",
    "else:\n",
    "    print(available_algorithms[algorithm-1])\n",
    "    selected_algorithms.add(available_algorithms[algorithm-1])"
   ]
  },
  {
   "attachments": {},
   "cell_type": "markdown",
   "metadata": {},
   "source": [
    "For both algorithms, the user needs to provide the value of k to search for top-k tables. In this demo, we will use k = 1 for SANTOS and k = 2 for JOSIE. \n",
    "Also, SANTOS needs user to specify the intent column and JOSIE needs user to specify a query column. We use Player as intent column and Stadium as query column.\n",
    "The search results are stored in /dialite/data/integration-set. Note that the query table is also included in the integration set."
   ]
  },
  {
   "cell_type": "code",
   "execution_count": null,
   "metadata": {},
   "outputs": [],
   "source": [
    "#Apply Table discovery algorithms.\n",
    "search_results = set()\n",
    "if \"SANTOS\" in selected_algorithms:\n",
    "    print(\"Enter the value of k for SANTOS:\")\n",
    "    k = int(input())\n",
    "    print(\"Enter index of intent column:\")\n",
    "    intent_column = int(input())\n",
    "    dialite.QuerySANTOS(query_table, intent_column, k)\n",
    "\n",
    "if \"JOSIE\" in selected_algorithms:\n",
    "    print(\"Enter the value of k for JOSIE:\")\n",
    "    k = int(input())\n",
    "    print(\"Enter index of query column:\")\n",
    "    query_column = int(input())\n",
    "    dialite.QueryJOSIE(query_table, query_column, k)"
   ]
  },
  {
   "cell_type": "code",
   "execution_count": null,
   "metadata": {},
   "outputs": [],
   "source": [
    "print(\"The integration set contains the following tables:\")\n",
    "integration_set = glob.glob(\"data/integration-set/*\")\n",
    "for each_table in integration_set:\n",
    "    print(each_table)"
   ]
  },
  {
   "attachments": {},
   "cell_type": "markdown",
   "metadata": {},
   "source": [
    "## Step 2: Align and Integrate\n",
    "In this step, DIALITE uses ALITE, a new table integration algorithm to integrate the discovered tables. The input for this step is the set of tables to be integrated (integration set) stored in /dialite/data/integration-set and the output is integration result stored in /dialite/data/integration-result/alite_fd_*.csv where, * is replaced by the name of integration set derived from the query table name."
   ]
  },
  {
   "cell_type": "code",
   "execution_count": null,
   "metadata": {},
   "outputs": [],
   "source": [
    "dialite.FindIntegrationIDs()\n",
    "dialite.ApplyALITEIntegration()\n",
    "\n",
    "#For comparison, we also integrate the tables using outer join.\n",
    "dialite.ApplyOuterJoinIntegration()"
   ]
  },
  {
   "cell_type": "code",
   "execution_count": null,
   "metadata": {},
   "outputs": [],
   "source": [
    "def new_joinability_discovery_algorithm(df1, df2):\n",
    "    join_df = pd.merge(df1, df2, how ='inner')\n",
    "    return len(join_df)/max(len(df1), len(df2))\n",
    "\n",
    "\n",
    "\n",
    "    # if len(join_df)/max(len(df1), len(df2)) > threshold:\n",
    "    #     return 1\n",
    "    # else:\n",
    "    #     return 0\n",
    "\n",
    "\n",
    "\n",
    "print(\"Enter Query Table Path:\")\n",
    "query_table = pd.read_csv(query_table_path)\n",
    "discovered_tables = dialite.discover(query_table, [new_joinability_discovery_algorithm])"
   ]
  },
  {
   "cell_type": "code",
   "execution_count": 2,
   "metadata": {},
   "outputs": [
    {
     "data": {
      "text/html": [
       "<div>\n",
       "<style scoped>\n",
       "    .dataframe tbody tr th:only-of-type {\n",
       "        vertical-align: middle;\n",
       "    }\n",
       "\n",
       "    .dataframe tbody tr th {\n",
       "        vertical-align: top;\n",
       "    }\n",
       "\n",
       "    .dataframe thead th {\n",
       "        text-align: right;\n",
       "    }\n",
       "</style>\n",
       "<table border=\"1\" class=\"dataframe\">\n",
       "  <thead>\n",
       "    <tr style=\"text-align: right;\">\n",
       "      <th></th>\n",
       "      <th>Country</th>\n",
       "      <th>Cases</th>\n",
       "      <th>Deaths</th>\n",
       "      <th>Recovered</th>\n",
       "      <th>Active</th>\n",
       "    </tr>\n",
       "  </thead>\n",
       "  <tbody>\n",
       "    <tr>\n",
       "      <th>0</th>\n",
       "      <td>USA</td>\n",
       "      <td>5742812</td>\n",
       "      <td>178701</td>\n",
       "      <td>2633567</td>\n",
       "      <td>2930544</td>\n",
       "    </tr>\n",
       "    <tr>\n",
       "      <th>1</th>\n",
       "      <td>Brazil</td>\n",
       "      <td>3713876</td>\n",
       "      <td>116476</td>\n",
       "      <td>2788841</td>\n",
       "      <td>808559</td>\n",
       "    </tr>\n",
       "    <tr>\n",
       "      <th>2</th>\n",
       "      <td>India</td>\n",
       "      <td>3444061</td>\n",
       "      <td>61529</td>\n",
       "      <td>2643788</td>\n",
       "      <td>738744</td>\n",
       "    </tr>\n",
       "    <tr>\n",
       "      <th>3</th>\n",
       "      <td>Russia</td>\n",
       "      <td>982822</td>\n",
       "      <td>16841</td>\n",
       "      <td>745930</td>\n",
       "      <td>219051</td>\n",
       "    </tr>\n",
       "    <tr>\n",
       "      <th>4</th>\n",
       "      <td>Mexico</td>\n",
       "      <td>704016</td>\n",
       "      <td>73814</td>\n",
       "      <td>442309</td>\n",
       "      <td>187893</td>\n",
       "    </tr>\n",
       "  </tbody>\n",
       "</table>\n",
       "</div>"
      ],
      "text/plain": [
       "  Country    Cases  Deaths  Recovered   Active\n",
       "0     USA  5742812  178701    2633567  2930544\n",
       "1  Brazil  3713876  116476    2788841   808559\n",
       "2   India  3444061   61529    2643788   738744\n",
       "3  Russia   982822   16841     745930   219051\n",
       "4  Mexico   704016   73814     442309   187893"
      ]
     },
     "execution_count": 2,
     "metadata": {},
     "output_type": "execute_result"
    }
   ],
   "source": [
    "query_table = dialite.randomly_generate_query_table(\n",
    "    'a table about covid with 5 columns and 5 rows'\n",
    "    )\n",
    "query_table.head(5)"
   ]
  },
  {
   "cell_type": "code",
   "execution_count": null,
   "metadata": {},
   "outputs": [],
   "source": [
    "def new_outer_join_integration_algorithm(integration_set):\n",
    "        table1_loc = integration_set.pop()\n",
    "        table1 = pd.read_csv(table1_loc)\n",
    "        for table2_loc in integration_set:\n",
    "                table2 = pd.read_csv(table2_loc)\n",
    "                table1 = table1.merge(table2, how = \"outer\")\n",
    "        return table1\n"
   ]
  },
  {
   "cell_type": "code",
   "execution_count": null,
   "metadata": {},
   "outputs": [],
   "source": []
  }
 ],
 "metadata": {
  "kernelspec": {
   "display_name": "Python 3",
   "language": "python",
   "name": "python3"
  },
  "language_info": {
   "codemirror_mode": {
    "name": "ipython",
    "version": 3
   },
   "file_extension": ".py",
   "mimetype": "text/x-python",
   "name": "python",
   "nbconvert_exporter": "python",
   "pygments_lexer": "ipython3",
   "version": "3.8.10 (tags/v3.8.10:3d8993a, May  3 2021, 11:48:03) [MSC v.1928 64 bit (AMD64)]"
  },
  "orig_nbformat": 4,
  "vscode": {
   "interpreter": {
    "hash": "0822af77c0478f28fc75a22a78f781852ff3b3e7f1600f0f7be807f0cd90bde5"
   }
  }
 },
 "nbformat": 4,
 "nbformat_minor": 2
}
