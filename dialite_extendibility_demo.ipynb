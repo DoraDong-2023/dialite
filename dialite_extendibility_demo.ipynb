{
 "cells": [
  {
   "cell_type": "code",
   "execution_count": null,
   "metadata": {},
   "outputs": [],
   "source": []
  }
 ],
 "metadata": {
  "kernelspec": {
   "display_name": "Python 3",
   "language": "python",
   "name": "python3"
  },
  "language_info": {
   "name": "python",
   "version": "3.8.10 (tags/v3.8.10:3d8993a, May  3 2021, 11:48:03) [MSC v.1928 64 bit (AMD64)]"
  },
  "orig_nbformat": 4,
  "vscode": {
   "interpreter": {
    "hash": "0822af77c0478f28fc75a22a78f781852ff3b3e7f1600f0f7be807f0cd90bde5"
   }
  }
 },
 "nbformat": 4,
 "nbformat_minor": 2
}
